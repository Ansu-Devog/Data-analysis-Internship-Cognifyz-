{
  "nbformat": 4,
  "nbformat_minor": 0,
  "metadata": {
    "colab": {
      "provenance": [],
      "toc_visible": true,
      "authorship_tag": "ABX9TyOLnW0cqZgkgainX9vdz46x",
      "include_colab_link": true
    },
    "kernelspec": {
      "name": "python3",
      "display_name": "Python 3"
    },
    "language_info": {
      "name": "python"
    }
  },
  "cells": [
    {
      "cell_type": "markdown",
      "metadata": {
        "id": "view-in-github",
        "colab_type": "text"
      },
      "source": [
        "<a href=\"https://colab.research.google.com/github/Ansu-Devog/Data-analysis-Internship-Cognifyz-/blob/main/Level%202/Restaurant_Insights.ipynb\" target=\"_parent\"><img src=\"https://colab.research.google.com/assets/colab-badge.svg\" alt=\"Open In Colab\"/></a>"
      ]
    },
    {
      "cell_type": "markdown",
      "source": [
        "# **Project Name - Restaurant Insights**"
      ],
      "metadata": {
        "id": "CCxNOXDvbM7u"
      }
    },
    {
      "cell_type": "markdown",
      "source": [
        "##### **Project Type**    - EDA\n",
        "##### **Industry**    - Cognifyz Technologies\n",
        "##### **Contribution**    - Individual\n",
        "##### **Member Name -** Ansuman Samanta\n",
        "##### **Level -** 2"
      ],
      "metadata": {
        "id": "O8MgI69JbbY1"
      }
    },
    {
      "cell_type": "markdown",
      "source": [
        "# **Project Summary**"
      ],
      "metadata": {
        "id": "civOAl_xb84U"
      }
    },
    {
      "cell_type": "markdown",
      "source": [
        "In the second phase of my Data Analysis internship at Cognifyz Technologies, I embarked on a journey to enhance our understanding of the restaurant dataset through a series of focused tasks. This level 2 revolved around three key objectives:\n",
        "\n",
        "**Task 1: Table Booking and Online Delivery Analysis**\n",
        "\n",
        "- Calculated the percentage of restaurants offering table booking and online delivery services.\n",
        "- Conducted a comparative analysis of average ratings for restaurants with and without table booking.\n",
        "- Explored the availability of online delivery options across various price ranges, revealing valuable insights into customer preferences.\n",
        "\n",
        "**Task 2: Price Range Analysis**\n",
        "\n",
        "- Determined the most common price range among all restaurants.\n",
        "- Computed the average rating for each price range, helping identify high-performing price segments.\n",
        "- Identified the color associated with the highest average rating, simplifying the identification of top-rated price ranges.\n",
        "\n",
        "**Task 3: Feature Engineering**\n",
        "\n",
        "- Employed advanced feature engineering techniques to extract additional insights from existing columns.\n",
        "- Generated new features like \"Has Table Booking\" and \"Has Online Delivery\" by encoding categorical variables, enhancing the dataset's intelligence.\n",
        "\n",
        "This level of the project aimed to elevate our analysis by uncovering essential details related to table booking, delivery services, pricing, and feature engineering. The insights gained will contribute significantly to our data-driven decision-making process and project success."
      ],
      "metadata": {
        "id": "4xZnfG-FcE6j"
      }
    },
    {
      "cell_type": "markdown",
      "source": [
        "# **Github**"
      ],
      "metadata": {
        "id": "yvUgmDUqnomD"
      }
    },
    {
      "cell_type": "markdown",
      "source": [
        "Link - https://github.com/Ansu-Devog/Data-analysis-Internship-Cognifyz-/tree/5021a3d00a065ef375d7bea0eec5c8a5a35ff241/Level%202"
      ],
      "metadata": {
        "id": "KEMqjcU4n75x"
      }
    },
    {
      "cell_type": "markdown",
      "source": [
        "# **Problem Statement**"
      ],
      "metadata": {
        "id": "gfdUjGOZoFBI"
      }
    },
    {
      "cell_type": "markdown",
      "source": [
        "In Level 2 of the Cognifyz Data Analysis Internship, the objective is to further enrich and refine our understanding of the restaurant dataset through three distinct tasks:\n",
        "\n",
        "**Task 1: Table Booking and Online Delivery**\n",
        "\n",
        "- Calculate the percentage of restaurants offering table booking and online delivery services.\n",
        "- Compare the average ratings of restaurants with and without table booking.\n",
        "- Analyze the availability of online delivery options across various price ranges.\n",
        "\n",
        "**Task 2: Price Range Analysis**\n",
        "\n",
        "- Determine the most common price range among all restaurants.\n",
        "- Calculate the average rating for each price range.\n",
        "- Identify the color associated with the highest average rating, simplifying the identification of top-rated price ranges.\n",
        "\n",
        "**Task 3: Feature Engineering**\n",
        "\n",
        "- Leverage advanced feature engineering techniques to extract additional insights from existing columns.\n",
        "- Create new features, such as \"Has Table Booking\" and \"Has Online Delivery,\" by encoding categorical variables, enhancing the dataset's intelligence.\n",
        "\n",
        "The overarching challenge is to enhance our restaurant insights by diving deep into the dataset and uncovering valuable information related to table booking, delivery services, pricing, and feature engineering. This data enrichment will contribute significantly to data-driven decision-making and project success."
      ],
      "metadata": {
        "id": "Ui-J8lEeoOte"
      }
    },
    {
      "cell_type": "markdown",
      "source": [
        "# **Task**"
      ],
      "metadata": {
        "id": "jqCwAhQPoYLb"
      }
    },
    {
      "cell_type": "markdown",
      "source": [
        "# ***Task 1: Table Booking and Online Delivery***"
      ],
      "metadata": {
        "id": "PMdsihO4osZ2"
      }
    },
    {
      "cell_type": "markdown",
      "source": [
        "## Import libraries"
      ],
      "metadata": {
        "id": "0Vifj3jcoy1W"
      }
    },
    {
      "cell_type": "code",
      "source": [
        "# Importing Libraries\n",
        "import pandas as pd\n",
        "import numpy as np\n",
        "\n",
        "# Visualization Libraries\n",
        "import matplotlib.pyplot as plt\n",
        "%matplotlib inline\n",
        "import seaborn as sns\n",
        "\n",
        "# Ignore all warnings\n",
        "import warnings\n",
        "warnings.filterwarnings('ignore')"
      ],
      "metadata": {
        "id": "1dzHbiDho3OO"
      },
      "execution_count": 4,
      "outputs": []
    },
    {
      "cell_type": "code",
      "source": [
        "# Load Dataset from github repository\n",
        "df = pd.read_csv(\"https://raw.githubusercontent.com/Ansu-Devog/Data-analysis-Internship-Cognifyz-/main/Dataset.csv\")"
      ],
      "metadata": {
        "id": "Sp-ZcIrHpFv-"
      },
      "execution_count": 8,
      "outputs": []
    },
    {
      "cell_type": "code",
      "source": [
        "!wget https://raw.githubusercontent.com/Ansu-Devog/Data-analysis-Internship-Cognifyz-/main/Dataset .csv\n"
      ],
      "metadata": {
        "colab": {
          "base_uri": "https://localhost:8080/"
        },
        "id": "_k9zbgb-62LW",
        "outputId": "e0a91136-d1d0-4fb2-9477-4d8c1d20edce"
      },
      "execution_count": 1,
      "outputs": [
        {
          "output_type": "stream",
          "name": "stdout",
          "text": [
            "--2024-05-23 03:51:53--  https://raw.githubusercontent.com/Ansu-Devog/Data-analysis-Internship-Cognifyz-/main/Dataset\n",
            "Resolving raw.githubusercontent.com (raw.githubusercontent.com)... 185.199.108.133, 185.199.111.133, 185.199.110.133, ...\n",
            "Connecting to raw.githubusercontent.com (raw.githubusercontent.com)|185.199.108.133|:443... connected.\n",
            "HTTP request sent, awaiting response... 404 Not Found\n",
            "2024-05-23 03:51:53 ERROR 404: Not Found.\n",
            "\n",
            "--2024-05-23 03:51:53--  http://.csv/\n",
            "Resolving .csv (.csv)... failed: Name or service not known.\n",
            "wget: unable to resolve host address ‘.csv’\n"
          ]
        }
      ]
    },
    {
      "cell_type": "markdown",
      "source": [
        "## Dataset Load"
      ],
      "metadata": {
        "id": "ogQwVrPtpAV2"
      }
    },
    {
      "cell_type": "markdown",
      "source": [
        "## Percentage of Table Booking and Online Delivery"
      ],
      "metadata": {
        "id": "0gyFZcRAx5in"
      }
    },
    {
      "cell_type": "code",
      "source": [
        "# Percentage of restaurants offering table booking and online delivery\n",
        "# Total number of restaurants\n",
        "total_restaurants = len(df)\n",
        "\n",
        "# Percentage calculation\n",
        "table_booking_percentage = (df['Has Table booking'] == 'Yes').sum() / total_restaurants * 100\n",
        "online_delivery_percentage = (df['Has Online delivery'] == 'Yes').sum() / total_restaurants * 100\n",
        "\n",
        "# Display results\n",
        "print(f\"Percentage of restaurants offering Table Booking: {table_booking_percentage:.2f}%\")\n",
        "print(f\"Percentage of restaurants offering Online Delivery: {online_delivery_percentage:.2f}%\")"
      ],
      "metadata": {
        "colab": {
          "base_uri": "https://localhost:8080/"
        },
        "id": "IETsw9M_zWvT",
        "outputId": "a6bf531e-40c5-4952-cd32-7a523be17cbe"
      },
      "execution_count": 9,
      "outputs": [
        {
          "output_type": "stream",
          "name": "stdout",
          "text": [
            "Percentage of restaurants offering Table Booking: 12.12%\n",
            "Percentage of restaurants offering Online Delivery: 25.66%\n"
          ]
        }
      ]
    },
    {
      "cell_type": "markdown",
      "source": [
        "## Restaurants with and without Table Booking"
      ],
      "metadata": {
        "id": "zuZ5TCdSyv50"
      }
    },
    {
      "cell_type": "code",
      "source": [
        "# Compare average ratings of restaurants with and without table booking\n",
        "avg_rating_with_table = df[df['Has Table booking'] == 'Yes']['Aggregate rating'].mean()\n",
        "avg_rating_without_table = df[df['Has Table booking'] == 'No']['Aggregate rating'].mean()\n",
        "\n",
        "# Display results\n",
        "print(f\"Average rating with Table Booking: {avg_rating_with_table:.2f}\")\n",
        "print(f\"Average rating without Table Booking: {avg_rating_without_table:.2f}\")"
      ],
      "metadata": {
        "colab": {
          "base_uri": "https://localhost:8080/"
        },
        "id": "9G1_-TMP0aoL",
        "outputId": "4b0b89e7-c8ee-48ba-ceb1-78bf6202d987"
      },
      "execution_count": 10,
      "outputs": [
        {
          "output_type": "stream",
          "name": "stdout",
          "text": [
            "Average rating with Table Booking: 3.44\n",
            "Average rating without Table Booking: 2.56\n"
          ]
        }
      ]
    },
    {
      "cell_type": "markdown",
      "source": [
        "## Availability of Online Delivery"
      ],
      "metadata": {
        "id": "eUoxh1Ac0f-M"
      }
    },
    {
      "cell_type": "code",
      "source": [
        "# Availability of online delivery among restaurants with different price ranges\n",
        "# Select price ranges\n",
        "price_ranges = df['Average Cost for two'].apply(lambda x: 'Low' if x < 500 else 'Medium' if 500 <= x <= 1000 else 'High')\n",
        "online_delivery_by_price_range = df.groupby(price_ranges)['Has Online delivery'].value_counts(normalize=True).unstack()\n",
        "\n",
        "# Display results\n",
        "print(\"Online Delivery Availability by Price Range:\")\n",
        "print(online_delivery_by_price_range)"
      ],
      "metadata": {
        "id": "rrF0RtcE0kuF",
        "colab": {
          "base_uri": "https://localhost:8080/"
        },
        "outputId": "1a0ac752-cd63-4ee6-bb90-158bdefbbc3c"
      },
      "execution_count": 11,
      "outputs": [
        {
          "output_type": "stream",
          "name": "stdout",
          "text": [
            "Online Delivery Availability by Price Range:\n",
            "Has Online delivery         No       Yes\n",
            "Average Cost for two                    \n",
            "High                  0.719149  0.280851\n",
            "Low                   0.858523  0.141477\n",
            "Medium                0.566209  0.433791\n"
          ]
        }
      ]
    },
    {
      "cell_type": "markdown",
      "source": [
        "## What did i found from the level 2 (task 1)?"
      ],
      "metadata": {
        "id": "7VYQcciJ0zSS"
      }
    },
    {
      "cell_type": "markdown",
      "source": [
        "* Percentage of restaurants offering Table Booking 12.12% and Online Delivery 25.66%\n",
        "* Average rating with Table Booking 3.44 and without Table Booking: 2.56\n",
        "* Online delivery availability for medium price range food product is better compare to high and low price range food product\n"
      ],
      "metadata": {
        "id": "kwJeL_HT09iA"
      }
    },
    {
      "cell_type": "markdown",
      "source": [
        "# ***Task 2: Price Range Analysis***"
      ],
      "metadata": {
        "id": "cpnjcAjk1CSk"
      }
    },
    {
      "cell_type": "markdown",
      "source": [
        "# Most Common Price Range"
      ],
      "metadata": {
        "id": "rhmwjfO21Ipo"
      }
    },
    {
      "cell_type": "code",
      "source": [
        "# Determining the most common price range among all the restaurants\n",
        "most_common_price_range = df['Price range'].mode()[0]\n",
        "\n",
        "# Display result\n",
        "print(f\"Most Common Price Range: {most_common_price_range}\")"
      ],
      "metadata": {
        "colab": {
          "base_uri": "https://localhost:8080/",
          "height": 222
        },
        "id": "D6v-oMXo1gDK",
        "outputId": "79d8f3dd-7d30-4656-c06a-aef5fecb6f3b"
      },
      "execution_count": null,
      "outputs": [
        {
          "output_type": "error",
          "ename": "NameError",
          "evalue": "name 'df' is not defined",
          "traceback": [
            "\u001b[0;31m---------------------------------------------------------------------------\u001b[0m",
            "\u001b[0;31mNameError\u001b[0m                                 Traceback (most recent call last)",
            "\u001b[0;32m<ipython-input-11-0bf216ae2020>\u001b[0m in \u001b[0;36m<cell line: 2>\u001b[0;34m()\u001b[0m\n\u001b[1;32m      1\u001b[0m \u001b[0;31m# Determining the most common price range among all the restaurants\u001b[0m\u001b[0;34m\u001b[0m\u001b[0;34m\u001b[0m\u001b[0m\n\u001b[0;32m----> 2\u001b[0;31m \u001b[0mmost_common_price_range\u001b[0m \u001b[0;34m=\u001b[0m \u001b[0mdf\u001b[0m\u001b[0;34m[\u001b[0m\u001b[0;34m'Price range'\u001b[0m\u001b[0;34m]\u001b[0m\u001b[0;34m.\u001b[0m\u001b[0mmode\u001b[0m\u001b[0;34m(\u001b[0m\u001b[0;34m)\u001b[0m\u001b[0;34m[\u001b[0m\u001b[0;36m0\u001b[0m\u001b[0;34m]\u001b[0m\u001b[0;34m\u001b[0m\u001b[0;34m\u001b[0m\u001b[0m\n\u001b[0m\u001b[1;32m      3\u001b[0m \u001b[0;34m\u001b[0m\u001b[0m\n\u001b[1;32m      4\u001b[0m \u001b[0;31m# Display result\u001b[0m\u001b[0;34m\u001b[0m\u001b[0;34m\u001b[0m\u001b[0m\n\u001b[1;32m      5\u001b[0m \u001b[0mprint\u001b[0m\u001b[0;34m(\u001b[0m\u001b[0;34mf\"Most Common Price Range: {most_common_price_range}\"\u001b[0m\u001b[0;34m)\u001b[0m\u001b[0;34m\u001b[0m\u001b[0;34m\u001b[0m\u001b[0m\n",
            "\u001b[0;31mNameError\u001b[0m: name 'df' is not defined"
          ]
        }
      ]
    },
    {
      "cell_type": "markdown",
      "source": [
        "## Average Rating for Each Price Range"
      ],
      "metadata": {
        "id": "mmWv6mjP1n7h"
      }
    },
    {
      "cell_type": "code",
      "source": [
        "# Calculating average rating for each price range\n",
        "# Group by 'Price range' and calculate the average rating\n",
        "avg_rating_by_price_range = df.groupby('Price range')['Aggregate rating'].mean()\n",
        "\n",
        "# Display result\n",
        "print(\"Average rating for each price range:\")\n",
        "print(round(avg_rating_by_price_range,3))"
      ],
      "metadata": {
        "id": "ChDU_lCt1syX"
      },
      "execution_count": null,
      "outputs": []
    },
    {
      "cell_type": "markdown",
      "source": [
        "## Highest Average Rating Among Different Price Ranges"
      ],
      "metadata": {
        "id": "kNcWMZMj1yHg"
      }
    },
    {
      "cell_type": "code",
      "source": [
        "# Identifying the color that represents the highest average rating among different price ranges\n",
        "# Find the price range with the highest average rating\n",
        "highest_avg_rating_color = avg_rating_by_price_range.idxmax()\n",
        "\n",
        "# Create the bar plot\n",
        "plt.bar(avg_rating_by_price_range.index, avg_rating_by_price_range, color='yellow')\n",
        "\n",
        "# Set the color of the bar corresponding to the highest average rating to a distinct color (e.g., red)\n",
        "plt.bar(highest_avg_rating_color, avg_rating_by_price_range[highest_avg_rating_color], color='red')\n",
        "\n",
        "# Set labels\n",
        "plt.xlabel('Price Range')\n",
        "plt.ylabel('Average Rating')\n",
        "plt.title('Average Rating by Price Range')\n",
        "\n",
        "# Highlight the bar for the highest average rating\n",
        "plt.show()"
      ],
      "metadata": {
        "colab": {
          "base_uri": "https://localhost:8080/",
          "height": 222
        },
        "id": "7xXM4_kD12Xn",
        "outputId": "82414333-d564-4c61-ad25-ffb137b8f5d3"
      },
      "execution_count": null,
      "outputs": [
        {
          "output_type": "error",
          "ename": "NameError",
          "evalue": "name 'avg_rating_by_price_range' is not defined",
          "traceback": [
            "\u001b[0;31m---------------------------------------------------------------------------\u001b[0m",
            "\u001b[0;31mNameError\u001b[0m                                 Traceback (most recent call last)",
            "\u001b[0;32m<ipython-input-12-7cfd6749f9ae>\u001b[0m in \u001b[0;36m<cell line: 3>\u001b[0;34m()\u001b[0m\n\u001b[1;32m      1\u001b[0m \u001b[0;31m# Identifying the color that represents the highest average rating among different price ranges\u001b[0m\u001b[0;34m\u001b[0m\u001b[0;34m\u001b[0m\u001b[0m\n\u001b[1;32m      2\u001b[0m \u001b[0;31m# Find the price range with the highest average rating\u001b[0m\u001b[0;34m\u001b[0m\u001b[0;34m\u001b[0m\u001b[0m\n\u001b[0;32m----> 3\u001b[0;31m \u001b[0mhighest_avg_rating_color\u001b[0m \u001b[0;34m=\u001b[0m \u001b[0mavg_rating_by_price_range\u001b[0m\u001b[0;34m.\u001b[0m\u001b[0midxmax\u001b[0m\u001b[0;34m(\u001b[0m\u001b[0;34m)\u001b[0m\u001b[0;34m\u001b[0m\u001b[0;34m\u001b[0m\u001b[0m\n\u001b[0m\u001b[1;32m      4\u001b[0m \u001b[0;34m\u001b[0m\u001b[0m\n\u001b[1;32m      5\u001b[0m \u001b[0;31m# Create the bar plot\u001b[0m\u001b[0;34m\u001b[0m\u001b[0;34m\u001b[0m\u001b[0m\n",
            "\u001b[0;31mNameError\u001b[0m: name 'avg_rating_by_price_range' is not defined"
          ]
        }
      ]
    },
    {
      "cell_type": "markdown",
      "source": [
        "## What did i found from the level 2 (task 2)?"
      ],
      "metadata": {
        "id": "eYKh-dC32SGP"
      }
    },
    {
      "cell_type": "markdown",
      "source": [
        "* Most common price range among all the restaurants is 1\n",
        "* Price range 4 get the highest average rating, which is 3.818. Followed by price range 3, 2 and 1"
      ],
      "metadata": {
        "id": "8vEroivA2Whd"
      }
    },
    {
      "cell_type": "markdown",
      "source": [
        "# ***Task 3: Feature Engineering***"
      ],
      "metadata": {
        "id": "FzsMOAvo2lQp"
      }
    },
    {
      "cell_type": "markdown",
      "source": [
        "## Extract Additional Features"
      ],
      "metadata": {
        "id": "aYYkPK522zmu"
      }
    },
    {
      "cell_type": "code",
      "source": [
        "# Extracting additional features from the existing columns, such as the length of the restaurant name or address\n",
        "# Create a new column for the length of restaurant names\n",
        "df['Restaurant Name Length'] = df['Restaurant Name'].apply(len)\n",
        "\n",
        "# Create a new column for the length of restaurant addresses\n",
        "df['Address Length'] = df['Address'].apply(len)\n",
        "\n",
        "# Display the updated DataFrame\n",
        "df.head()"
      ],
      "metadata": {
        "colab": {
          "base_uri": "https://localhost:8080/",
          "height": 222
        },
        "id": "EmNzbi4r29tP",
        "outputId": "eb4fd124-f9ac-45e8-9cf5-3e25d7d82d6a"
      },
      "execution_count": null,
      "outputs": [
        {
          "output_type": "error",
          "ename": "NameError",
          "evalue": "name 'df' is not defined",
          "traceback": [
            "\u001b[0;31m---------------------------------------------------------------------------\u001b[0m",
            "\u001b[0;31mNameError\u001b[0m                                 Traceback (most recent call last)",
            "\u001b[0;32m<ipython-input-13-4f9408276643>\u001b[0m in \u001b[0;36m<cell line: 3>\u001b[0;34m()\u001b[0m\n\u001b[1;32m      1\u001b[0m \u001b[0;31m# Extracting additional features from the existing columns, such as the length of the restaurant name or address\u001b[0m\u001b[0;34m\u001b[0m\u001b[0;34m\u001b[0m\u001b[0m\n\u001b[1;32m      2\u001b[0m \u001b[0;31m# Create a new column for the length of restaurant names\u001b[0m\u001b[0;34m\u001b[0m\u001b[0;34m\u001b[0m\u001b[0m\n\u001b[0;32m----> 3\u001b[0;31m \u001b[0mdf\u001b[0m\u001b[0;34m[\u001b[0m\u001b[0;34m'Restaurant Name Length'\u001b[0m\u001b[0;34m]\u001b[0m \u001b[0;34m=\u001b[0m \u001b[0mdf\u001b[0m\u001b[0;34m[\u001b[0m\u001b[0;34m'Restaurant Name'\u001b[0m\u001b[0;34m]\u001b[0m\u001b[0;34m.\u001b[0m\u001b[0mapply\u001b[0m\u001b[0;34m(\u001b[0m\u001b[0mlen\u001b[0m\u001b[0;34m)\u001b[0m\u001b[0;34m\u001b[0m\u001b[0;34m\u001b[0m\u001b[0m\n\u001b[0m\u001b[1;32m      4\u001b[0m \u001b[0;34m\u001b[0m\u001b[0m\n\u001b[1;32m      5\u001b[0m \u001b[0;31m# Create a new column for the length of restaurant addresses\u001b[0m\u001b[0;34m\u001b[0m\u001b[0;34m\u001b[0m\u001b[0m\n",
            "\u001b[0;31mNameError\u001b[0m: name 'df' is not defined"
          ]
        }
      ]
    }
  ]
}